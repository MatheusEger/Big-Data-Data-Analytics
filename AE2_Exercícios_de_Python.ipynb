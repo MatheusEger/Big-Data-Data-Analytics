{
  "metadata": {
    "kernelspec": {
      "language": "python",
      "display_name": "Python 3",
      "name": "python3"
    },
    "language_info": {
      "name": "python",
      "version": "3.10.12",
      "mimetype": "text/x-python",
      "codemirror_mode": {
        "name": "ipython",
        "version": 3
      },
      "pygments_lexer": "ipython3",
      "nbconvert_exporter": "python",
      "file_extension": ".py"
    },
    "kaggle": {
      "accelerator": "none",
      "dataSources": [],
      "dockerImageVersionId": 30918,
      "isInternetEnabled": false,
      "language": "python",
      "sourceType": "notebook",
      "isGpuEnabled": false
    },
    "colab": {
      "name": "AE2 - Exercícios de Python",
      "provenance": [],
      "include_colab_link": true
    }
  },
  "nbformat_minor": 0,
  "nbformat": 4,
  "cells": [
    {
      "cell_type": "markdown",
      "metadata": {
        "id": "view-in-github",
        "colab_type": "text"
      },
      "source": [
        "<a href=\"https://colab.research.google.com/github/MatheusEger/Big-Data-Data-Analytics/blob/main/AE2_Exerc%C3%ADcios_de_Python.ipynb\" target=\"_parent\"><img src=\"https://colab.research.google.com/assets/colab-badge.svg\" alt=\"Open In Colab\"/></a>"
      ]
    },
    {
      "cell_type": "markdown",
      "source": [
        "# Big Data & Data Analytics"
      ],
      "metadata": {
        "_uuid": "465c3368-c0eb-496c-aff1-c0a4b64357db",
        "_cell_guid": "8e2179d5-91d9-4514-af1a-aff322175bdb",
        "trusted": true,
        "collapsed": false,
        "jupyter": {
          "outputs_hidden": false
        },
        "id": "I873MTNma53u"
      }
    },
    {
      "cell_type": "markdown",
      "source": [
        "## AE2 - Exercícios de Python"
      ],
      "metadata": {
        "_uuid": "236ab766-9cbf-4967-9952-5aee81a817d2",
        "_cell_guid": "fb1c14b2-aa7d-4d13-8c5d-9c0ade9fd89d",
        "trusted": true,
        "collapsed": false,
        "jupyter": {
          "outputs_hidden": false
        },
        "id": "U1AU4pEza53w"
      }
    },
    {
      "cell_type": "markdown",
      "source": [
        "**1)** No Hemisfério Sul, temos 3 zonas climáticas: parte da zona tropical, entre 0º e 23,26º de latitude, zona temperada do Sul, entre 23,27º e 66,32º, e zona polar do Sul, entre 66,33º e 90º. Sabendo isso, desenvolva uma estrutura condicional que decida e mostre na tela, dada uma latitude qualquer de uma cidade, em qual zona térmica DO HEMISFÉRIO SUL esta cidade fica. Use de exemplo as latitudes das cidades de Monte Verde (22,86º), Caçador (26,81º) e a Ilha Alexandre I (71,45º) para testar as condições."
      ],
      "metadata": {
        "_uuid": "0b24ab22-df18-4f85-bad3-f4cb0ad419e3",
        "_cell_guid": "1e947aeb-a2ea-4b52-9942-266ffa202e72",
        "trusted": true,
        "collapsed": false,
        "jupyter": {
          "outputs_hidden": false
        },
        "id": "VDcY1zjta53x"
      }
    },
    {
      "cell_type": "code",
      "source": [
        "#zona_tropical entre 0º e 23,26º\n",
        "#zona_temperada_do_sul entre 23,26º e 66,32º\n",
        "#zona_polar_do_sul entre 66,33º e 90ª\n",
        "\n",
        "# Monte verde = 22.86\n",
        "# Cacador = 26,81\n",
        "# Ilha Alexandre = 71.45\n",
        "\n",
        "cidades = (\"Monte Verde\", \"Caçador\", \"Ilha Alexandre\")\n",
        "latitudes = (22.86, 26.81, 71.45)\n",
        "\n",
        "for n, x in zip(cidades, latitudes):\n",
        "    if x >= 0 and x <= 23.26:\n",
        "        print(f\"{n} fica na Zona tropical e tem a latitude {x}°.\")\n",
        "    elif x > 23.27 and x <= 66.32:\n",
        "        print(f\"{n} fica na Zona temperada e tem a latitude {x}°.\")\n",
        "    elif x > 66.33 and x <= 90:\n",
        "        print(f\"{n} fica na Zona polar do sul e tem a latitude {x}°.\")\n",
        "    else:\n",
        "        print(\"Informe uma latitude valida!\")"
      ],
      "metadata": {
        "_uuid": "9e24f588-5608-4c34-ae7d-8363afbaf78a",
        "_cell_guid": "92e9b3c2-9c2c-4895-b945-ce45a9510855",
        "trusted": true,
        "execution": {
          "iopub.status.busy": "2025-03-19T12:39:42.135688Z",
          "iopub.execute_input": "2025-03-19T12:39:42.136095Z",
          "iopub.status.idle": "2025-03-19T12:39:42.144678Z",
          "shell.execute_reply.started": "2025-03-19T12:39:42.136057Z",
          "shell.execute_reply": "2025-03-19T12:39:42.143509Z"
        },
        "jupyter": {
          "outputs_hidden": false
        },
        "id": "VayAWqFJa53y"
      },
      "outputs": [],
      "execution_count": null
    },
    {
      "cell_type": "markdown",
      "source": [
        "**2)** Modularize o mecanismo desenvolvido utilização função."
      ],
      "metadata": {
        "_uuid": "54ea81de-3b3c-4b7b-bec8-c2fc43632e3e",
        "_cell_guid": "dbb2f532-f640-49c8-98ac-6ed995a5a5f8",
        "trusted": true,
        "collapsed": false,
        "jupyter": {
          "outputs_hidden": false
        },
        "id": "8TJf6O9xa53z"
      }
    },
    {
      "cell_type": "code",
      "source": [
        "teste = {\"Monte Verde\": 22.86,\n",
        "         \"Caçador\":26.81,\n",
        "         \"Ilha Alexandre\": 71.45\n",
        "        }\n",
        "\n",
        "def zonasClimaticas(dados):\n",
        "    for n, x in dados.items():\n",
        "        if x >= 0 and x <= 23.26:\n",
        "            print(f\"{n} fica na Zona tropical e tem a latitude {x}°.\")\n",
        "        elif x > 23.27 and x <= 66.32:\n",
        "            print(f\"{n} fica na Zona temperada e tem a latitude {x}°.\")\n",
        "        elif x > 66.33 and x <= 90:\n",
        "            print(f\"{n} fica na Zona polar do sul e tem a latitude {x}°.\")\n",
        "        else:\n",
        "            print(\"Informe uma latitude valida!\")\n",
        "\n",
        "zonasClimaticas(teste)"
      ],
      "metadata": {
        "_uuid": "65ff1cac-0bf2-4d15-81ad-5729454f25f9",
        "_cell_guid": "74106db4-61f5-4b0c-8e8b-31a1a4c656a1",
        "trusted": true,
        "execution": {
          "iopub.status.busy": "2025-03-19T12:39:42.145751Z",
          "iopub.execute_input": "2025-03-19T12:39:42.146115Z",
          "iopub.status.idle": "2025-03-19T12:39:42.170323Z",
          "shell.execute_reply.started": "2025-03-19T12:39:42.146087Z",
          "shell.execute_reply": "2025-03-19T12:39:42.168831Z"
        },
        "jupyter": {
          "outputs_hidden": false
        },
        "id": "gzt1Zx1_a53z"
      },
      "outputs": [],
      "execution_count": null
    },
    {
      "cell_type": "markdown",
      "source": [
        "**3)** Utilizando o dicionário abaixo, percorra-o, executando a função desenvolvida no item 2.\n",
        "\n",
        "```Python\n",
        "cidades_hemisferio_sul = {\n",
        "    \"Puerto Williams, Chile\": 55.05,\n",
        "    \"Jakarta, Indonésia\": 6.21,\n",
        "    \"Montevidéu, Uruguai\": 34.90,\n",
        "    \"Base Amundsen-Scott, Polo Sul\": 90.00,\n",
        "    \"Lima, Peru\": 12.04,\n",
        "    \"São Paulo, Brasil\": 23.55,\n",
        "    \"Base Esperanza, Antártica Argentina\": 63.40,\n",
        "    \"Buenos Aires, Argentina\": 34.61,\n",
        "    \"Manaus, Brasil\": 3.11,\n",
        "    \"Perth, Austrália\": 31.95,\n",
        "    \"Johannesburgo, África do Sul\": 26.20,\n",
        "    \"Dili, Timor-Leste\": 8.56,\n",
        "    \"Auckland, Nova Zelândia\": 36.85,\n",
        "    \"Base McMurdo, Antártica EUA\": 77.85,\n",
        "    \"Grytviken, Geórgia do Sul\": 54.28,\n",
        "    \"Belém, Brasil\": 1.45,\n",
        "    \"Dar es Salaam, Tanzânia\": 6.79,\n",
        "    \"Santiago, Chile\": 33.45,\n",
        "    \"Ushuaia, Argentina\": 54.80,\n",
        "    \"Quito, Equador\": 0.18\n",
        "}`\n",
        "```"
      ],
      "metadata": {
        "_uuid": "ce4624ad-a0e2-48bf-9a87-4e18dacabf76",
        "_cell_guid": "e00f885b-165c-4503-b83d-9bf2b9fe3a4a",
        "trusted": true,
        "collapsed": false,
        "jupyter": {
          "outputs_hidden": false
        },
        "id": "o-SzmqXba53z"
      }
    },
    {
      "cell_type": "code",
      "source": [
        "cidades_hemisferio_sul = {\n",
        "    \"Puerto Williams, Chile\": 55.05,\n",
        "    \"Jakarta, Indonésia\": 6.21,\n",
        "    \"Montevidéu, Uruguai\": 34.90,\n",
        "    \"Base Amundsen-Scott, Polo Sul\": 90.00,\n",
        "    \"Lima, Peru\": 12.04,\n",
        "    \"São Paulo, Brasil\": 23.55,\n",
        "    \"Base Esperanza, Antártica Argentina\": 63.40,\n",
        "    \"Buenos Aires, Argentina\": 34.61,\n",
        "    \"Manaus, Brasil\": 3.11,\n",
        "    \"Perth, Austrália\": 31.95,\n",
        "    \"Johannesburgo, África do Sul\": 26.20,\n",
        "    \"Dili, Timor-Leste\": 8.56,\n",
        "    \"Auckland, Nova Zelândia\": 36.85,\n",
        "    \"Base McMurdo, Antártica EUA\": 77.85,\n",
        "    \"Grytviken, Geórgia do Sul\": 54.28,\n",
        "    \"Belém, Brasil\": 1.45,\n",
        "    \"Dar es Salaam, Tanzânia\": 6.79,\n",
        "    \"Santiago, Chile\": 33.45,\n",
        "    \"Ushuaia, Argentina\": 54.80,\n",
        "    \"Quito, Equador\": 0.18\n",
        "}\n",
        "\n",
        "zonasClimaticas(cidades_hemisferio_sul)"
      ],
      "metadata": {
        "_uuid": "3747df8a-1cee-4544-a0da-d79d214ed81b",
        "_cell_guid": "0e5ccdb5-d71b-41e9-a3b6-adb02d2455dc",
        "trusted": true,
        "execution": {
          "iopub.status.busy": "2025-03-19T12:39:42.171534Z",
          "iopub.execute_input": "2025-03-19T12:39:42.171932Z",
          "iopub.status.idle": "2025-03-19T12:39:42.197514Z",
          "shell.execute_reply.started": "2025-03-19T12:39:42.171898Z",
          "shell.execute_reply": "2025-03-19T12:39:42.196294Z"
        },
        "jupyter": {
          "outputs_hidden": false
        },
        "id": "lOGWJKl9a53z"
      },
      "outputs": [],
      "execution_count": null
    },
    {
      "cell_type": "markdown",
      "source": [
        "**4)** Faça um código que adicione os números de 0 a 20 à uma lista. Após isso, crie uma nova lista com os itens pares da primeira lista, utilizando **compreensão de listas**."
      ],
      "metadata": {
        "_uuid": "8e925323-aee0-4855-bf34-be3de6e38cbb",
        "_cell_guid": "9d39372e-c45a-44fe-a177-da4b08cff88f",
        "trusted": true,
        "collapsed": false,
        "jupyter": {
          "outputs_hidden": false
        },
        "id": "Of3RNsBra530"
      }
    },
    {
      "cell_type": "code",
      "source": [
        "lista = [i for i in range(0, 21)]\n",
        "\n",
        "listaPar = [i for i in lista if (i%2) == 0]\n",
        "\n",
        "print(f\"Lista Original = {lista}\\nLista Par = {listaPar}\")"
      ],
      "metadata": {
        "_uuid": "8fedb5e8-3874-44b9-8cb9-3828277a85ed",
        "_cell_guid": "8948ffa1-d4d7-418f-8941-0c62921f61d9",
        "trusted": true,
        "execution": {
          "iopub.status.busy": "2025-03-19T12:39:42.198778Z",
          "iopub.execute_input": "2025-03-19T12:39:42.199204Z",
          "iopub.status.idle": "2025-03-19T12:39:42.220165Z",
          "shell.execute_reply.started": "2025-03-19T12:39:42.199164Z",
          "shell.execute_reply": "2025-03-19T12:39:42.21871Z"
        },
        "jupyter": {
          "outputs_hidden": false
        },
        "id": "6WkcXT3ea530"
      },
      "outputs": [],
      "execution_count": null
    },
    {
      "cell_type": "markdown",
      "source": [
        "**5)** Crie uma classe chamada ContaBancaria que represente uma conta bancária. A classe deve possuir os atributos titular, que armazena o nome do titular da conta, e saldo, que inicia com o valor zero. Implemente os métodos depositar(valor), que adiciona um valor ao saldo da conta; sacar(valor), que retira um valor do saldo, garantindo que a operação só seja realizada caso haja saldo suficiente; e exibir_saldo(), que imprime o saldo atual da conta. Após implementar a classe, crie uma instância, realize algumas operações de depósito e saque e teste a verificação de saldo insuficiente ao tentar sacar um valor maior do que o disponível."
      ],
      "metadata": {
        "_uuid": "84ab145a-6865-4328-a0e7-d90c5b8722d6",
        "_cell_guid": "d829106a-08a4-451e-a328-332d9b1c6657",
        "trusted": true,
        "collapsed": false,
        "jupyter": {
          "outputs_hidden": false
        },
        "id": "vJg6f8n6a530"
      }
    },
    {
      "cell_type": "code",
      "source": [
        "class ContaBanco:\n",
        "    titular = \"titular\"\n",
        "    saldo = 0\n",
        "\n",
        "    def __init__(self, titular, saldo=0):\n",
        "        self.titular = titular\n",
        "        self.saldo = saldo\n",
        "\n",
        "    def depositar(self, valor):\n",
        "        self.saldo += valor\n",
        "\n",
        "    def sacar(self, valor):\n",
        "        if valor <= self.saldo:\n",
        "            self.saldo -= valor\n",
        "        else:\n",
        "            print(f\"Saldo inferior ao valor do saque, seu saldo atual é de R$ {self.saldo}\")\n",
        "\n",
        "    def exibe_saldo(self):\n",
        "        print(f\"Saldo atual: R${self.saldo:.2f}\")\n",
        "\n",
        "    def __str__(self):\n",
        "        return f\"ContaBanco(titular={self.titular}, saldo={self.saldo})\"\n",
        "\n",
        "    def __repr__(self):\n",
        "        return f\"ContaBanco(titular={self.titular}, saldo={self.saldo})\""
      ],
      "metadata": {
        "_uuid": "f2ae9d2e-b60d-43b1-b5d1-16f402a747ef",
        "_cell_guid": "0145f9b4-dbb1-4dbd-9fc8-bfb9e25e266e",
        "trusted": true,
        "execution": {
          "iopub.status.busy": "2025-03-19T12:39:42.221372Z",
          "iopub.execute_input": "2025-03-19T12:39:42.221788Z",
          "iopub.status.idle": "2025-03-19T12:39:42.239237Z",
          "shell.execute_reply.started": "2025-03-19T12:39:42.221754Z",
          "shell.execute_reply": "2025-03-19T12:39:42.238027Z"
        },
        "jupyter": {
          "outputs_hidden": false
        },
        "id": "qgXg96JYa530"
      },
      "outputs": [],
      "execution_count": null
    },
    {
      "cell_type": "code",
      "source": [
        "conta1 = ContaBanco(titular=\"Matheus\")\n",
        "print(conta1)\n",
        "conta1"
      ],
      "metadata": {
        "_uuid": "7e204747-dcb8-4b89-b3dc-cbb2de0ed49a",
        "_cell_guid": "0ef30ce9-ff09-4f81-b896-0243bd3026df",
        "trusted": true,
        "execution": {
          "iopub.status.busy": "2025-03-19T12:39:42.242263Z",
          "iopub.execute_input": "2025-03-19T12:39:42.242626Z",
          "iopub.status.idle": "2025-03-19T12:39:42.272451Z",
          "shell.execute_reply.started": "2025-03-19T12:39:42.242594Z",
          "shell.execute_reply": "2025-03-19T12:39:42.271129Z"
        },
        "jupyter": {
          "outputs_hidden": false
        },
        "id": "fmoYS4Kua531"
      },
      "outputs": [],
      "execution_count": null
    },
    {
      "cell_type": "code",
      "source": [
        "conta1.depositar(50)"
      ],
      "metadata": {
        "_uuid": "7af077f2-18f3-401a-ab6f-9a36ab997fc3",
        "_cell_guid": "a937c3f8-0c43-40fc-9375-bf2c4f303f0b",
        "trusted": true,
        "execution": {
          "iopub.status.busy": "2025-03-19T12:39:42.274158Z",
          "iopub.execute_input": "2025-03-19T12:39:42.274612Z",
          "iopub.status.idle": "2025-03-19T12:39:42.28837Z",
          "shell.execute_reply.started": "2025-03-19T12:39:42.274568Z",
          "shell.execute_reply": "2025-03-19T12:39:42.286845Z"
        },
        "jupyter": {
          "outputs_hidden": false
        },
        "id": "mMhc-C_fa531"
      },
      "outputs": [],
      "execution_count": null
    },
    {
      "cell_type": "code",
      "source": [
        "conta1.sacar(200)"
      ],
      "metadata": {
        "_uuid": "99f62936-00f6-423d-a33e-2eac704e849c",
        "_cell_guid": "97238c40-8d70-43fd-a5b1-e108a89f3b8b",
        "trusted": true,
        "execution": {
          "iopub.status.busy": "2025-03-19T12:39:42.289629Z",
          "iopub.execute_input": "2025-03-19T12:39:42.290101Z",
          "iopub.status.idle": "2025-03-19T12:39:42.312453Z",
          "shell.execute_reply.started": "2025-03-19T12:39:42.290049Z",
          "shell.execute_reply": "2025-03-19T12:39:42.311188Z"
        },
        "jupyter": {
          "outputs_hidden": false
        },
        "id": "XKfrW_j7a531"
      },
      "outputs": [],
      "execution_count": null
    },
    {
      "cell_type": "code",
      "source": [
        "conta1.exibe_saldo()"
      ],
      "metadata": {
        "_uuid": "a654ca62-9bb6-41a7-b16f-3eab39cd76f3",
        "_cell_guid": "ab332bc9-5de1-4b01-8a89-394fa7fd7e45",
        "trusted": true,
        "execution": {
          "iopub.status.busy": "2025-03-19T12:39:42.313766Z",
          "iopub.execute_input": "2025-03-19T12:39:42.314274Z",
          "iopub.status.idle": "2025-03-19T12:39:42.332835Z",
          "shell.execute_reply.started": "2025-03-19T12:39:42.314233Z",
          "shell.execute_reply": "2025-03-19T12:39:42.331649Z"
        },
        "jupyter": {
          "outputs_hidden": false
        },
        "id": "9f4GEsaca531"
      },
      "outputs": [],
      "execution_count": null
    },
    {
      "cell_type": "code",
      "source": [
        "conta1.sacar(50)\n",
        "conta1.exibe_saldo()"
      ],
      "metadata": {
        "_uuid": "0f0994fc-bd1f-4675-9278-00cdd4df0bbb",
        "_cell_guid": "c37f4f5e-1ca4-43c8-8155-2f2491c35f28",
        "trusted": true,
        "execution": {
          "iopub.status.busy": "2025-03-19T12:39:42.334045Z",
          "iopub.execute_input": "2025-03-19T12:39:42.334487Z",
          "iopub.status.idle": "2025-03-19T12:39:42.354776Z",
          "shell.execute_reply.started": "2025-03-19T12:39:42.334444Z",
          "shell.execute_reply": "2025-03-19T12:39:42.353573Z"
        },
        "jupyter": {
          "outputs_hidden": false
        },
        "id": "IbdORcTja531"
      },
      "outputs": [],
      "execution_count": null
    }
  ]
}